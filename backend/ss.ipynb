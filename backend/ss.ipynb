{
 "cells": [
  {
   "cell_type": "code",
   "execution_count": 3,
   "id": "ff496f5b",
   "metadata": {},
   "outputs": [
    {
     "name": "stdout",
     "output_type": "stream",
     "text": [
      "📂 Remaining documents: 0\n"
     ]
    }
   ],
   "source": [
    "from pymongo import MongoClient\n",
    "from dotenv import load_dotenv\n",
    "import os\n",
    "\n",
    "load_dotenv()\n",
    "\n",
    "mongo_uri = os.getenv('MONGO_URI')\n",
    "client = MongoClient(mongo_uri)\n",
    "db = client[\"findle\"]\n",
    "cases_col = db[\"missing_cases\"]\n",
    "\n",
    "# Confirm deletion\n",
    "print(f\"📂 Remaining documents: {cases_col.count_documents({})}\")\n"
   ]
  },
  {
   "cell_type": "code",
   "execution_count": null,
   "id": "7523837b",
   "metadata": {},
   "outputs": [],
   "source": []
  }
 ],
 "metadata": {
  "kernelspec": {
   "display_name": "Python 3",
   "language": "python",
   "name": "python3"
  },
  "language_info": {
   "codemirror_mode": {
    "name": "ipython",
    "version": 3
   },
   "file_extension": ".py",
   "mimetype": "text/x-python",
   "name": "python",
   "nbconvert_exporter": "python",
   "pygments_lexer": "ipython3",
   "version": "3.12.4"
  }
 },
 "nbformat": 4,
 "nbformat_minor": 5
}
